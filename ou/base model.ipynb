{
 "cells": [
  {
   "cell_type": "code",
   "execution_count": 33,
   "metadata": {},
   "outputs": [],
   "source": [
    "import os\n",
    "import pdb\n",
    "import sys\n",
    "\n",
    "import numpy as np\n",
    "import pandas as pd\n",
    "import seaborn as sns\n",
    "import matplotlib.pyplot as plt"
   ]
  },
  {
   "cell_type": "code",
   "execution_count": 4,
   "metadata": {},
   "outputs": [],
   "source": [
    "# Encode\n",
    "from sklearn.preprocessing import LabelBinarizer\n",
    "\n",
    "# ML\n",
    "from sklearn.tree import DecisionTreeClassifier\n",
    "\n",
    "# Ensemble method\n",
    "from sklearn.ensemble import RandomForestClassifier\n",
    "\n",
    "# Split\n",
    "from sklearn.model_selection import train_test_split\n",
    "\n",
    "# Metric to evaluation\n",
    "from sklearn.metrics import precision_score, recall_score, f1_score, accuracy_score\n",
    "\n",
    "# Standard Scaler\n",
    "from sklearn.preprocessing import StandardScaler"
   ]
  },
  {
   "cell_type": "code",
   "execution_count": 17,
   "metadata": {},
   "outputs": [],
   "source": [
    "# What causes a more severe accident?\n",
    "# Data dictionary https://www.seattle.gov/Documents/Departments/SDOT/GIS/Collisions_OD.pdf\n",
    "X_org = pd.read_csv(\"/Users/ou/Projects/traffic_collisions_ml_team2/data/Collisions.csv\")"
   ]
  },
  {
   "cell_type": "code",
   "execution_count": 18,
   "metadata": {},
   "outputs": [
    {
     "data": {
      "text/plain": [
       "False    220436\n",
       "Name: COLDETKEY, dtype: int64"
      ]
     },
     "execution_count": 18,
     "metadata": {},
     "output_type": "execute_result"
    }
   ],
   "source": [
    "# Unique id identify each accident\n",
    "X_org['INCKEY'].duplicated().value_counts()\n",
    "X_org['COLDETKEY'].duplicated().value_counts()"
   ]
  },
  {
   "cell_type": "code",
   "execution_count": 19,
   "metadata": {},
   "outputs": [],
   "source": [
    "# Drop 'LOCATION'\n",
    "# Drop 'REPORTNO', 'STATUS', EXCEPTRSNCODE, EXCEPTRSNDESC ST_COLCODE\n",
    "# Convert  INCDATE, INCDTTM\n",
    "X = X_org[['SEVERITYDESC', 'ADDRTYPE', 'EXCEPTRSNCODE', 'EXCEPTRSNDESC', 'COLLISIONTYPE', 'PERSONCOUNT',\n",
    "       'PEDCOUNT', 'PEDCYLCOUNT', 'VEHCOUNT', 'INJURIES', 'SERIOUSINJURIES',\n",
    "       'FATALITIES', 'INCDATE', 'INCDTTM', 'JUNCTIONTYPE', 'SDOT_COLCODE',\n",
    "       'SDOT_COLDESC', 'INATTENTIONIND', 'UNDERINFL', 'WEATHER', 'ROADCOND',\n",
    "       'LIGHTCOND', 'PEDROWNOTGRNT', 'SDOTCOLNUM', 'SPEEDING', 'ST_COLCODE',\n",
    "       'ST_COLDESC', 'SEGLANEKEY', 'CROSSWALKKEY', 'HITPARKEDCAR']]"
   ]
  },
  {
   "cell_type": "code",
   "execution_count": 20,
   "metadata": {},
   "outputs": [],
   "source": [
    "# Import LabelEncoder\n",
    "from sklearn.preprocessing import LabelEncoder\n",
    "num_col = [\"PERSONCOUNT\", \"PEDCOUNT\", \"PEDCYLCOUNT\", \"VEHCOUNT\", \"INJURIES\",\n",
    "    \"SERIOUSINJURIES\", \"FATALITIES\"]\n",
    "num_mask = X.columns.isin(num_col)\n",
    "cat_col = X.columns[~num_mask].tolist()"
   ]
  },
  {
   "cell_type": "code",
   "execution_count": 21,
   "metadata": {},
   "outputs": [],
   "source": [
    "# Fill missing values with 0\n",
    "X.loc[:, num_col] = X.loc[:, num_col].apply(lambda x: x.astype(int).fillna(0))\n",
    "X.loc[:, cat_col] = X[cat_col].apply(lambda x: x.fillna('MISSING'))"
   ]
  },
  {
   "cell_type": "code",
   "execution_count": 22,
   "metadata": {},
   "outputs": [
    {
     "name": "stdout",
     "output_type": "stream",
     "text": [
      "   SEVERITYDESC  ADDRTYPE  EXCEPTRSNCODE  EXCEPTRSNDESC  COLLISIONTYPE  \\\n",
      "0             1         2              1              0              7   \n",
      "1             2         1              2              1              4   \n",
      "2             2         2              0              0              0   \n",
      "3             2         2              0              0             10   \n",
      "4             4         1              0              0              4   \n",
      "\n",
      "   INCDATE  INCDTTM  JUNCTIONTYPE  SDOT_COLCODE  SDOT_COLDESC  ...  ROADCOND  \\\n",
      "0      288    16775             1            11            11  ...         0   \n",
      "1     5866     7210             5             2            19  ...         2   \n",
      "2     5849    12947             1             1            15  ...         9   \n",
      "3     5888    59502             1             1            15  ...         0   \n",
      "4     5883    69282             5             1            15  ...         2   \n",
      "\n",
      "   LIGHTCOND  PEDROWNOTGRNT  SDOTCOLNUM  SPEEDING  ST_COLCODE  ST_COLDESC  \\\n",
      "0          2              0       49356         0          24          57   \n",
      "1          7              0      127186         0           0          21   \n",
      "2          5              0      127186         0           3           4   \n",
      "3          5              0      127186         0           4          16   \n",
      "4          7              0      127186         0           0          21   \n",
      "\n",
      "   SEGLANEKEY  CROSSWALKKEY  HITPARKEDCAR  \n",
      "0           0             0             0  \n",
      "1           0             0             1  \n",
      "2           0             0             0  \n",
      "3           0             0             0  \n",
      "4           0             0             1  \n",
      "\n",
      "[5 rows x 23 columns]\n"
     ]
    }
   ],
   "source": [
    "# Create LabelEncoder object: le\n",
    "le = LabelEncoder()\n",
    "# Apply LabelEncoder to categorical columns\n",
    "X[cat_col] = X[cat_col].apply(lambda x: le.fit_transform(x.astype(str)))\n",
    "# Print the head of the LabelEncoded categorical columns\n",
    "print(X[cat_col].head())"
   ]
  },
  {
   "cell_type": "code",
   "execution_count": 23,
   "metadata": {},
   "outputs": [],
   "source": [
    "y = X['SEVERITYDESC'].to_frame().copy()\n",
    "X = X.drop(['SEVERITYDESC'], axis=1).copy()"
   ]
  },
  {
   "cell_type": "code",
   "execution_count": 24,
   "metadata": {},
   "outputs": [],
   "source": [
    "X_train, X_test, y_train, y_test = train_test_split(\n",
    "        X, y, test_size=0.33, random_state=42)"
   ]
  },
  {
   "cell_type": "code",
   "execution_count": 25,
   "metadata": {},
   "outputs": [],
   "source": [
    "# Random forest classifier\n",
    "forest_clf = RandomForestClassifier(random_state=42)\n",
    "forest_clf.fit(X_train, y_train.values.ravel())\n",
    "y_pred = forest_clf.predict(X_test)"
   ]
  },
  {
   "cell_type": "code",
   "execution_count": 26,
   "metadata": {},
   "outputs": [
    {
     "name": "stdout",
     "output_type": "stream",
     "text": [
      "[1.         0.99921618 0.99757843 0.99898271 0.98323944]\n"
     ]
    }
   ],
   "source": [
    "### Classification\n",
    "## ask for precision, recall, accuracy, F1 Score\n",
    "## Precision: precision = TP/ (TP + FP)\n",
    "from sklearn.metrics import precision_score\n",
    "precision_score = precision_score(y_test, y_pred, average=None)\n",
    "print(precision_score)"
   ]
  },
  {
   "cell_type": "code",
   "execution_count": 34,
   "metadata": {},
   "outputs": [],
   "source": [
    "# See all numbers \n",
    "np.set_printoptions(threshold=sys.maxsize)"
   ]
  },
  {
   "cell_type": "code",
   "execution_count": 41,
   "metadata": {},
   "outputs": [],
   "source": [
    "# See prediction v.s. test\n",
    "df = pd.DataFrame(data=y_pred, columns=['pred'])\n",
    "compare = df.join(y_test.reset_index(), how='outer').drop(['index'], axis=1)\n",
    "compare['diff'] = compare['pred'] - compare['SEVERITYDESC']"
   ]
  },
  {
   "cell_type": "code",
   "execution_count": 64,
   "metadata": {},
   "outputs": [],
   "source": []
  },
  {
   "cell_type": "code",
   "execution_count": 65,
   "metadata": {},
   "outputs": [
    {
     "data": {
      "text/html": [
       "<div>\n",
       "<style scoped>\n",
       "    .dataframe tbody tr th:only-of-type {\n",
       "        vertical-align: middle;\n",
       "    }\n",
       "\n",
       "    .dataframe tbody tr th {\n",
       "        vertical-align: top;\n",
       "    }\n",
       "\n",
       "    .dataframe thead th {\n",
       "        text-align: right;\n",
       "    }\n",
       "</style>\n",
       "<table border=\"1\" class=\"dataframe\">\n",
       "  <thead>\n",
       "    <tr style=\"text-align: right;\">\n",
       "      <th></th>\n",
       "      <th>pred</th>\n",
       "      <th>SEVERITYDESC</th>\n",
       "      <th>diff</th>\n",
       "    </tr>\n",
       "  </thead>\n",
       "  <tbody>\n",
       "    <tr>\n",
       "      <th>0</th>\n",
       "      <td>2</td>\n",
       "      <td>2</td>\n",
       "      <td>0</td>\n",
       "    </tr>\n",
       "    <tr>\n",
       "      <th>1</th>\n",
       "      <td>2</td>\n",
       "      <td>2</td>\n",
       "      <td>0</td>\n",
       "    </tr>\n",
       "    <tr>\n",
       "      <th>2</th>\n",
       "      <td>2</td>\n",
       "      <td>2</td>\n",
       "      <td>0</td>\n",
       "    </tr>\n",
       "    <tr>\n",
       "      <th>3</th>\n",
       "      <td>2</td>\n",
       "      <td>2</td>\n",
       "      <td>0</td>\n",
       "    </tr>\n",
       "    <tr>\n",
       "      <th>4</th>\n",
       "      <td>2</td>\n",
       "      <td>2</td>\n",
       "      <td>0</td>\n",
       "    </tr>\n",
       "  </tbody>\n",
       "</table>\n",
       "</div>"
      ],
      "text/plain": [
       "   pred  SEVERITYDESC  diff\n",
       "0     2             2     0\n",
       "1     2             2     0\n",
       "2     2             2     0\n",
       "3     2             2     0\n",
       "4     2             2     0"
      ]
     },
     "execution_count": 65,
     "metadata": {},
     "output_type": "execute_result"
    }
   ],
   "source": []
  },
  {
   "cell_type": "code",
   "execution_count": 66,
   "metadata": {},
   "outputs": [
    {
     "data": {
      "text/plain": [
       " 0    72499\n",
       "-2      122\n",
       " 2      121\n",
       "-1        1\n",
       " 1        1\n",
       "Name: diff, dtype: int64"
      ]
     },
     "execution_count": 66,
     "metadata": {},
     "output_type": "execute_result"
    }
   ],
   "source": []
  },
  {
   "cell_type": "code",
   "execution_count": null,
   "metadata": {},
   "outputs": [],
   "source": []
  },
  {
   "cell_type": "code",
   "execution_count": null,
   "metadata": {},
   "outputs": [],
   "source": []
  },
  {
   "cell_type": "code",
   "execution_count": null,
   "metadata": {},
   "outputs": [],
   "source": []
  }
 ],
 "metadata": {
  "kernelspec": {
   "display_name": "mlenv",
   "language": "python",
   "name": "mlenv"
  },
  "language_info": {
   "codemirror_mode": {
    "name": "ipython",
    "version": 3
   },
   "file_extension": ".py",
   "mimetype": "text/x-python",
   "name": "python",
   "nbconvert_exporter": "python",
   "pygments_lexer": "ipython3",
   "version": "3.7.4"
  }
 },
 "nbformat": 4,
 "nbformat_minor": 4
}
