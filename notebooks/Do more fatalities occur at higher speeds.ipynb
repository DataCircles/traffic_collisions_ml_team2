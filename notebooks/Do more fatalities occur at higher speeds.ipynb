{
 "cells": [
  {
   "cell_type": "code",
   "execution_count": 1,
   "metadata": {},
   "outputs": [],
   "source": [
    "import sys\n",
    "import os\n",
    "os.chdir(r'D:\\pycharm\\st\\projects_circle\\traffic_collisions_project\\traffic_collisions_ml_team2')\n",
    "from utils import *\n",
    "\n"
   ]
  },
  {
   "cell_type": "markdown",
   "metadata": {},
   "source": [
    "# Does road speedlimit difference at intersections correlate with fatalities?\n",
    "\n",
    "There doesn't appear to be a significant difference in distribution between the two severity codes."
   ]
  },
  {
   "cell_type": "code",
   "execution_count": 2,
   "metadata": {},
   "outputs": [
    {
     "data": {
      "image/png": "[encoded data removed]",
      "text/plain": [
       "<Figure size 432x288 with 1 Axes>"
      ]
     },
     "metadata": {
      "needs_background": "light"
     },
     "output_type": "display_data"
    }
   ],
   "source": [
    "import matplotlib.pyplot as plt\n",
    "ax = plt.subplot(111)\n",
    "w = 1\n",
    "\n",
    "df = collision_street_intersection_joined()\n",
    "  \n",
    "df['speeddelta'] = df['speedlimithi']-df['speedlimitlo']\n",
    "\n",
    "d = df[df['severitycode']=='2']['speeddelta'].value_counts()\n",
    "d = (d/d.sum())\n",
    "b1 = ax.bar(d.index, d.values, color='b', align='center')\n",
    "\n",
    "d = df[df['severitycode']=='3']['speeddelta'].value_counts()\n",
    "d = (d/d.sum())\n",
    "b2 = ax.bar(d.index+w, d.values, color='r', align='center')\n",
    "\n",
    "ax.legend( (b1[0], b2[0]), ('sev=2', 'sev=3') )\n",
    "plt.title('speeddelta')\n",
    "plt.show()\n",
    "\n"
   ]
  },
  {
   "cell_type": "markdown",
   "metadata": {},
   "source": [
    "# Does max speedlimit at intersection or block correlate with fatalities?\n",
    "\n",
    "Below it can be seen that severity code 3 has a higher average speedlimit of about 10 mph."
   ]
  },
  {
   "cell_type": "code",
   "execution_count": 3,
   "metadata": {},
   "outputs": [
    {
     "data": {
      "image/png": "[encoded data removed]",
      "text/plain": [
       "<Figure size 432x288 with 1 Axes>"
      ]
     },
     "metadata": {
      "needs_background": "light"
     },
     "output_type": "display_data"
    }
   ],
   "source": [
    "import matplotlib.pyplot as plt\n",
    "ax = plt.subplot(111)\n",
    "w = 1\n",
    "\n",
    "d = df[df['severitycode']=='2']['speedlimithi'].value_counts()\n",
    "d = (d/d.sum())\n",
    "b1 = ax.bar(d.index, d.values, color='b', align='center')\n",
    "\n",
    "d = df[df['severitycode']=='3']['speedlimithi'].value_counts()\n",
    "d = (d/d.sum())\n",
    "b2 = ax.bar(d.index+w, d.values, color='r', align='center')\n",
    "\n",
    "ax.legend( (b1[0], b2[0]), ('sev=2', 'sev=3') )\n",
    "plt.title('speedlimithi')\n",
    "plt.show()"
   ]
  }
 ],
 "metadata": {
  "kernelspec": {
   "display_name": "stml",
   "language": "python",
   "name": "stml"
  },
  "language_info": {
   "codemirror_mode": {
    "name": "ipython",
    "version": 3
   },
   "file_extension": ".py",
   "mimetype": "text/x-python",
   "name": "python",
   "nbconvert_exporter": "python",
   "pygments_lexer": "ipython3",
   "version": "3.8.5"
  }
 },
 "nbformat": 4,
 "nbformat_minor": 4
}
