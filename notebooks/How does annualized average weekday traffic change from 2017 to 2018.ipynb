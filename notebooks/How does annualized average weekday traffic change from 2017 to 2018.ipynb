{
 "cells": [
  {
   "cell_type": "markdown",
   "metadata": {},
   "source": [
    "# Traffic Flow Dataset\n",
    "\n",
    "Features:\n",
    "* STNAME\n",
    "* COUNT_LOCATION\n",
    "* YEAR\n",
    "* SEGKEY\n",
    "* AAWDT\n",
    "* INPUT_STUDY_ID\n",
    "\n",
    "Rowcount:\n",
    "437\n",
    "\n",
    "## Analysis\n",
    "1. This study has too few rows to be of high enough resolution to be useful for collision data. It might be possible to restrict collisions to just these 400 or so survey locations, but even then I don't think annual traffic flow is fine-grained enough to be a useful datapoint.\n",
    "2. This study appears to be defunct, unfortunately. Despite the dataset being updated in May 2019, the data only spans 2017 and 2018. In addition, no count location that I can see repeats among the two years. Rather, 2018 chose slightly different locations on a road to measure flow than 2017 location choices. This at least means that I would have to reach out and do additional investigation to do any meaningful correlation. But given the limited scope of the data, it is hard to do any correlation anyway:\n",
    "\n",
    "There are vastly fewer count locations in 2018 than in 2017:\n",
    "\n",
    "2017 rows: 278\n",
    "<br>\n",
    "2018 rows: 159\n",
    "\n",
    "\n",
    "There are vastly different counts for the two years.\n",
    "\n",
    "2017 sum aawdt: 3069013\n",
    "<br>\n",
    "2018 sum aawdt: 1267160\n",
    "\n",
    "Despite this, it can still be seen that the distribution doesnt change between the two years. \n",
    "\n",
    "It is my opinion that this dataset is too sparse to be of much use with the collision dataset."
   ]
  },
  {
   "cell_type": "code",
   "execution_count": 41,
   "metadata": {},
   "outputs": [
    {
     "name": "stdout",
     "output_type": "stream",
     "text": [
      "[106  89  52  18   8   3   1   0   0   1] [  468.   7057.3 13646.6 20235.9 26825.2 33414.5 40003.8 46593.1 53182.4\n",
      " 59771.7 66361. ]\n"
     ]
    },
    {
     "data": {
      "image/png": "[encoded data removed]",
      "text/plain": [
       "<Figure size 720x720 with 1 Axes>"
      ]
     },
     "metadata": {
      "needs_background": "light"
     },
     "output_type": "display_data"
    }
   ],
   "source": [
    "import sys\n",
    "import os\n",
    "os.chdir(r\"D:\\pycharm\\st\\projects_circle\\traffic_collisions_project\\traffic_collisions_ml_team2\")\n",
    "from utils import *\n",
    "import matplotlib.pyplot as plt\n",
    "f = pd.read_csv('./data/Traffic_Flow_Map_Volumes.csv')\n",
    "\n",
    "plt.figure(figsize=(10, 10))\n",
    "ax = plt.subplot(111)\n",
    "w = 1000\n",
    "h0, bins = np.histogram(f[f['YEAR']==2017]['AAWDT'])\n",
    "print(h0, bins)\n",
    "b1 = ax.bar(bins[:-1], h0, width=w, color='b', align='center')\n",
    "\n",
    "h0, h1 = np.histogram(f[f['YEAR']==2018]['AAWDT'], bins=bins);\n",
    "b2 = ax.bar(bins[:-1]+w, h0, width=w, color='r', align='center')\n",
    "ax.legend( (b1[0], b2[0]), ('2017', '2018') )\n",
    "plt.title('AAWDT')\n",
    "plt.show()\n",
    "\n",
    "\n"
   ]
  }
 ],
 "metadata": {
  "kernelspec": {
   "display_name": "stml",
   "language": "python",
   "name": "stml"
  },
  "language_info": {
   "codemirror_mode": {
    "name": "ipython",
    "version": 3
   },
   "file_extension": ".py",
   "mimetype": "text/x-python",
   "name": "python",
   "nbconvert_exporter": "python",
   "pygments_lexer": "ipython3",
   "version": "3.8.5"
  }
 },
 "nbformat": 4,
 "nbformat_minor": 4
}
