{
 "cells": [
  {
   "cell_type": "markdown",
   "metadata": {},
   "source": [
    "This notebook looks at seglanekey.\n",
    "\n",
    "It looks like each lane segment of each road segment has a key, probably a key in Hansen 8, or whatever seattle uses for their management system.\n",
    "\n"
   ]
  },
  {
   "cell_type": "code",
   "execution_count": null,
   "metadata": {},
   "outputs": [],
   "source": [
    "\"\"\"\n",
    "load the data\n",
    "\"\"\"\n",
    "import pandas as pd\n",
    "import numpy as np\n",
    "pd.set_option('display.max_colwidth', None)\n",
    "pd.set_option('display.max_columns', None)\n",
    "odf = pd.read_csv(r'../data/Collisions.csv', parse_dates=[\"INCDTTM\"], dtype={'SDOT_COLCODE':object, })\n",
    "odf.columns = map(str.lower, odf.columns)"
   ]
  },
  {
   "cell_type": "markdown",
   "metadata": {},
   "source": [
    "Can multiple seglanekeys map to same location? Yes, probably different lanes on a road:"
   ]
  },
  {
   "cell_type": "code",
   "execution_count": null,
   "metadata": {},
   "outputs": [],
   "source": [
    "\"\"\"\n",
    "can a single seglanekey show up in multiple locations\n",
    "\"\"\"\n",
    "df = odf[(odf['seglanekey']!=0)].copy()\n",
    "g = df.groupby('location')['seglanekey']\n",
    "un = g.nunique()\n",
    "\n",
    "for group in list(g.groups.keys()):\n",
    "    if un[group] < 2:\n",
    "        df.drop(g.get_group(group).index, inplace=True)\n",
    "\n",
    "g = df.groupby('location')['seglanekey']\n",
    "\n",
    "assert np.all(g.nunique() > 1)\n",
    "\n",
    "print(g.value_counts())\n",
    "df[df['location']=='12TH AVE AND E JEFFERSON ST']\n",
    "\n"
   ]
  },
  {
   "cell_type": "markdown",
   "metadata": {},
   "source": [
    "Can multiple locations map to the same seglanekey? Yes, because a lane segment has a beginning, middle, and end, at least:"
   ]
  },
  {
   "cell_type": "code",
   "execution_count": null,
   "metadata": {},
   "outputs": [],
   "source": [
    "\"\"\"\n",
    "can the same seglanekey show up at different locations?\n",
    "\"\"\"\n",
    "\n",
    "df = odf[(odf['seglanekey']!=0)].copy()\n",
    "g = df.groupby('seglanekey')['location']\n",
    "un = g.nunique()\n",
    "\n",
    "for group in list(g.groups.keys()):\n",
    "    if un[group] < 2:\n",
    "        df.drop(g.get_group(group).index, inplace=True)\n",
    "\n",
    "g = df.groupby('seglanekey')['location']\n",
    "\n",
    "assert np.all(g.nunique() > 1)\n",
    "\n",
    "print(g.value_counts())\n",
    "df[df['location']=='12TH AVE AND E JEFFERSON ST']\n",
    "\n",
    "\n",
    "\n",
    "\n",
    "\n"
   ]
  },
  {
   "cell_type": "code",
   "execution_count": null,
   "metadata": {},
   "outputs": [],
   "source": []
  }
 ],
 "metadata": {
  "kernelspec": {
   "display_name": "stml",
   "language": "python",
   "name": "stml"
  },
  "language_info": {
   "codemirror_mode": {
    "name": "ipython",
    "version": 3
   },
   "file_extension": ".py",
   "mimetype": "text/x-python",
   "name": "python",
   "nbconvert_exporter": "python",
   "pygments_lexer": "ipython3",
   "version": "3.8.5"
  }
 },
 "nbformat": 4,
 "nbformat_minor": 4
}
